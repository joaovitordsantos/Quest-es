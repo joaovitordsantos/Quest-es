{
  "nbformat": 4,
  "nbformat_minor": 0,
  "metadata": {
    "colab": {
      "provenance": [],
      "authorship_tag": "ABX9TyNiSZzab0IXm0phJRV0ipne",
      "include_colab_link": true
    },
    "kernelspec": {
      "name": "python3",
      "display_name": "Python 3"
    },
    "language_info": {
      "name": "python"
    }
  },
  "cells": [
    {
      "cell_type": "markdown",
      "metadata": {
        "id": "view-in-github",
        "colab_type": "text"
      },
      "source": [
        "<a href=\"https://colab.research.google.com/github/joaovitordsantos/Questoes/blob/main/Gr%C3%A1fico%20Verde%20x%20CDI.ipynb\" target=\"_parent\"><img src=\"https://colab.research.google.com/assets/colab-badge.svg\" alt=\"Open In Colab\"/></a>"
      ]
    },
    {
      "cell_type": "code",
      "source": [
        "import streamlit as st\n",
        "import pandas as pd\n",
        "import matplotlib.pyplot as plt\n",
        "\n",
        "# Carrega os dados\n",
        "df = pd.read_excel(\"Verde-GER-rentabilidades (1).xlsx\")\n",
        "df_rentabilidade = df[[\"Unnamed: 0\",\"Acumulado Ano\", \"CDI\", \"Acumulado fundo\", \"Acum. CDI*\"]]\n",
        "df_rentabilidade[\"CDI\"] = df_rentabilidade[\"CDI\"].astype(float)\n",
        "df_rentabilidade[\"Acumulado Ano\"] = df_rentabilidade[\"Acumulado Ano\"].astype(float)\n",
        "\n",
        "# Cria o gráfico de barras\n",
        "fig, ax = plt.subplots(figsize=(10, 10))\n",
        "df_rentabilidade.plot.bar(x=\"Unnamed: 0\", y=[\"Acumulado Ano\", \"CDI\"], ax=ax)\n",
        "ax.set_title(\"Retorno Anual X CDI Anual\")\n",
        "ax.set_xlabel(\"Ano\")\n",
        "ax.set_ylabel(\"Retorno (%)\")\n",
        "\n",
        "# Exibe o gráfico usando o Streamlit\n",
        "st.pyplot(fig)\n"
      ],
      "metadata": {
        "colab": {
          "base_uri": "https://localhost:8080/"
        },
        "id": "ngSaBx-26Y9T",
        "outputId": "b817c187-345e-472a-cfd6-bfbcf94c404b"
      },
      "execution_count": 7,
      "outputs": [
        {
          "output_type": "stream",
          "name": "stderr",
          "text": [
            "<ipython-input-7-c2617cc26bb1>:8: SettingWithCopyWarning: \n",
            "A value is trying to be set on a copy of a slice from a DataFrame.\n",
            "Try using .loc[row_indexer,col_indexer] = value instead\n",
            "\n",
            "See the caveats in the documentation: https://pandas.pydata.org/pandas-docs/stable/user_guide/indexing.html#returning-a-view-versus-a-copy\n",
            "  df_rentabilidade[\"CDI\"] = df_rentabilidade[\"CDI\"].astype(float)\n",
            "<ipython-input-7-c2617cc26bb1>:9: SettingWithCopyWarning: \n",
            "A value is trying to be set on a copy of a slice from a DataFrame.\n",
            "Try using .loc[row_indexer,col_indexer] = value instead\n",
            "\n",
            "See the caveats in the documentation: https://pandas.pydata.org/pandas-docs/stable/user_guide/indexing.html#returning-a-view-versus-a-copy\n",
            "  df_rentabilidade[\"Acumulado Ano\"] = df_rentabilidade[\"Acumulado Ano\"].astype(float)\n"
          ]
        },
        {
          "output_type": "execute_result",
          "data": {
            "text/plain": [
              "DeltaGenerator(_root_container=0, _provided_cursor=None, _parent=None, _block_type=None, _form_data=None)"
            ]
          },
          "metadata": {},
          "execution_count": 7
        }
      ]
    },
    {
      "cell_type": "code",
      "source": [],
      "metadata": {
        "colab": {
          "base_uri": "https://localhost:8080/",
          "height": 130
        },
        "id": "zv_JT60d80_t",
        "outputId": "183261fb-2386-4e93-c958-623408f0ed6e"
      },
      "execution_count": 6,
      "outputs": [
        {
          "output_type": "error",
          "ename": "SyntaxError",
          "evalue": "ignored",
          "traceback": [
            "\u001b[0;36m  File \u001b[0;32m\"<ipython-input-6-c066ce483e7e>\"\u001b[0;36m, line \u001b[0;32m1\u001b[0m\n\u001b[0;31m    streamlit run Verde-GER-rentabilidades\\ \\(1\\).xlsx.py\u001b[0m\n\u001b[0m              ^\u001b[0m\n\u001b[0;31mSyntaxError\u001b[0m\u001b[0;31m:\u001b[0m invalid syntax\n"
          ]
        }
      ]
    }
  ]
}