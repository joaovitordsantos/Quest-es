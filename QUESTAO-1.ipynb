{
  "cells": [
    {
      "cell_type": "markdown",
      "metadata": {
        "id": "view-in-github",
        "colab_type": "text"
      },
      "source": [
        "<a href=\"https://colab.research.google.com/github/joaovitordsantos/Quest-es/blob/main/QUESTAO-1.ipynb\" target=\"_parent\"><img src=\"https://colab.research.google.com/assets/colab-badge.svg\" alt=\"Open In Colab\"/></a>"
      ]
    },
    {
      "cell_type": "markdown",
      "source": [
        "QUESTAO-1"
      ],
      "metadata": {
        "id": "p5y6WsIKMF9k"
      }
    },
    {
      "cell_type": "code",
      "source": [
        "import yfinance as yf\n",
        "import pandas as pd\n",
        "import numpy as np\n",
        "import statsmodels.api as sm\n",
        "\n",
        "# definir as datas de início e fim\n",
        "start_date = '2022-01-01'\n",
        "end_date = '2022-03-13'\n",
        "\n",
        "# baixar os preços de fechamento\n",
        "tickers = ['PETR4.SA', 'ABEV3.SA', 'VALE3.SA', 'ITUB4.SA', 'B3SA3.SA']\n",
        "df = yf.download(tickers, start=start_date, end=end_date)['Adj Close']\n",
        "\n",
        "# baixar o ^BVSP\n",
        "df['^BVSP'] = yf.download('^BVSP', start=start_date, end=end_date)['Adj Close']\n",
        "\n",
        "# calcular os retornos diários\n",
        "retornos = df.pct_change().dropna()\n",
        "\n",
        "# calcular os betas\n",
        "X = sm.add_constant(retornos['^BVSP'])\n",
        "betas = pd.DataFrame(index=retornos.columns, columns=['Beta'])\n",
        "for ticker in retornos.columns:\n",
        "    y = retornos[ticker]\n",
        "    model = sm.OLS(y, X, missing='drop')\n",
        "    results = model.fit()\n",
        "    betas.loc[ticker] = results.params['^BVSP']\n",
        "    \n",
        "print(betas)\n"
      ],
      "metadata": {
        "id": "o_u-28-KL-GA",
        "outputId": "21957585-2da3-4f00-a4cb-37cedbb1574e",
        "colab": {
          "base_uri": "https://localhost:8080/"
        }
      },
      "execution_count": 10,
      "outputs": [
        {
          "output_type": "stream",
          "name": "stdout",
          "text": [
            "[*********************100%***********************]  5 of 5 completed\n",
            "[*********************100%***********************]  1 of 1 completed\n",
            "              Beta\n",
            "ABEV3.SA  0.760597\n",
            "B3SA3.SA  1.082077\n",
            "ITUB4.SA  0.793868\n",
            "PETR4.SA  1.195953\n",
            "VALE3.SA  0.547265\n",
            "^BVSP          1.0\n"
          ]
        }
      ]
    },
    {
      "cell_type": "markdown",
      "source": [
        "Beta é uma medida da sensibilidade do retorno de um ativo em relação ao retorno do mercado como um todo. Um beta de 1,0 significa que o ativo se move em linha com o mercado. Um beta superior a 1,0 significa que o ativo é mais volátil que o mercado, enquanto um beta inferior a 1,0 significa que o ativo é menos volátil que o mercado.\n",
        "\n",
        "No exemplo que você apresentou, temos os seguintes betas:\n",
        "\n",
        "PETR4: 1.37 - O beta da PETR4 é maior que 1,0, o que indica que ela é mais volátil que o mercado como um todo. Em outras palavras, se o mercado subir, é mais provável que a PETR4 suba ainda mais, mas se o mercado cair, é mais provável que a PETR4 caia ainda mais também.\n",
        "\n",
        "ABEV3: 0.46 - O beta da ABEV3 é menor que 1,0, o que indica que ela é menos volátil que o mercado como um todo. Isso significa que a ABEV3 tende a seguir o mercado, mas com menos oscilações.\n",
        "\n",
        "VALE3: 0.97 - O beta da VALE3 é próximo de 1,0, o que indica que ela tende a seguir o mercado como um todo.\n",
        "\n",
        "ITUB4: 0.83 - O beta da ITUB4 é menor que 1,0, o que indica que ela é menos volátil que o mercado como um todo. Isso significa que a ITUB4 tende a seguir o mercado, mas com menos oscilações.\n",
        "\n",
        "B3SA3: 1.52 - O beta da B3SA3 é maior que 1,0, o que indica que ela é mais volátil que o mercado como um todo. Em outras palavras, se o mercado subir, é mais provável que a B3SA3 suba ainda mais, mas se o mercado cair, é mais provável que a B3SA3 caia ainda mais também.\n"
      ],
      "metadata": {
        "id": "DkA5CajzMSFt"
      }
    },
    {
      "cell_type": "code",
      "source": [],
      "metadata": {
        "id": "g8UI8LDuMVl7"
      },
      "execution_count": null,
      "outputs": []
    }
  ],
  "metadata": {
    "colab": {
      "name": "Damos-lhe as boas-vindas ao Colaboratory",
      "toc_visible": true,
      "provenance": [],
      "include_colab_link": true
    },
    "kernelspec": {
      "display_name": "Python 3",
      "name": "python3"
    }
  },
  "nbformat": 4,
  "nbformat_minor": 0
}