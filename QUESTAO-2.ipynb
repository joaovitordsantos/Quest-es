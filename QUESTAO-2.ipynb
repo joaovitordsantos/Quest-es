{
  "cells": [
    {
      "cell_type": "markdown",
      "metadata": {
        "id": "view-in-github",
        "colab_type": "text"
      },
      "source": [
        "<a href=\"https://colab.research.google.com/github/joaovitordsantos/Quest-es/blob/main/QUESTAO-2.ipynb\" target=\"_parent\"><img src=\"https://colab.research.google.com/assets/colab-badge.svg\" alt=\"Open In Colab\"/></a>"
      ]
    },
    {
      "cell_type": "markdown",
      "source": [
        "QUESTÃO 2 "
      ],
      "metadata": {
        "id": "tgiZAWKZJ8i6"
      }
    },
    {
      "cell_type": "code",
      "source": [
        "import numpy as np\n",
        "from scipy.stats import norm\n",
        "import pandas_datareader.data as web\n",
        "\n",
        "def black_scholes(option_type, S, K, r, T, sigma):\n",
        "    d1 = (np.log(S/float(K)) + (float(r) + 0.5 * sigma**2) * float(T)) / (sigma * np.sqrt(float(T)))\n",
        "    d2 = d1 - sigma * np.sqrt(float(T))\n",
        "\n",
        "    if option_type == 'call':\n",
        "        price = S * norm.cdf(d1) - float(K) * np.exp(-float(r) * float(T)) * norm.cdf(d2)\n",
        "    elif option_type == 'put':\n",
        "        price = float(K) * np.exp(-r * float(T)) * norm.cdf(-d2) - float(S) * norm.cdf(-d1)\n",
        "\n",
        "    return price\n",
        "\n",
        "# Obter preços históricos do ativo\n",
        "start_date = '2022-01-01'\n",
        "end_date = '2022-03-13'\n",
        "ticker = 'PETR4.SA'\n",
        "prices = yf.download(ticker, start=start_date, end=end_date)\n",
        "\n",
        "# Calcular a volatilidade anualizada\n",
        "returns = np.log(prices['Adj Close'] / prices['Adj Close'].shift(1))\n",
        "sigma = returns.std() * np.sqrt(252)\n",
        "\n",
        "# Calcular o preço da opção\n",
        "option_type = input(\"call ou put? \")\n",
        "S = prices['Adj Close'][-1]  # Preço atual do ativo subjacente\n",
        "K = input(\"Qual o preço de exercício da opção? \")  # Preço de exercício da opção\n",
        "r = input(\"Quanto é a taxa livre de risco? ex: 0.5 \")  # Taxa livre de risco\n",
        "T = input(\"Qual o tempo restante até o vencimento da opção em anos? \")  # Tempo restante até o vencimento da opção (em anos)\n",
        "price = black_scholes(option_type, S, K, r, T, sigma)\n",
        "\n",
        "print(f'Preço da opção: {price:.2f}')\n",
        "\n"
      ],
      "metadata": {
        "id": "oIlyydZbJ83h"
      },
      "execution_count": null,
      "outputs": []
    },
    {
      "cell_type": "markdown",
      "source": [
        "O modelo de Black-Scholes é amplamente utilizado para avaliar o preço de opções em mercados financeiros. No entanto, suas principais limitações incluem a suposição de que os retornos do ativo subjacente seguem uma distribuição normal, o que nem sempre é o caso na prática, além da suposição de que a volatilidade é constante ao longo do tempo, o que também não é realista. Portanto, o modelo pode levar a resultados imprecisos em determinadas condições de mercado."
      ],
      "metadata": {
        "id": "3bqv3P_KKCwd"
      }
    },
    {
      "cell_type": "code",
      "source": [],
      "metadata": {
        "id": "r6Lq4GXPKEEB"
      },
      "execution_count": null,
      "outputs": []
    }
  ],
  "metadata": {
    "colab": {
      "name": "Damos-lhe as boas-vindas ao Colaboratory",
      "toc_visible": true,
      "provenance": [],
      "include_colab_link": true
    },
    "kernelspec": {
      "display_name": "Python 3",
      "name": "python3"
    }
  },
  "nbformat": 4,
  "nbformat_minor": 0
}