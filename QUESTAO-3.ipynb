{
  "cells": [
    {
      "cell_type": "markdown",
      "metadata": {
        "id": "view-in-github",
        "colab_type": "text"
      },
      "source": [
        "<a href=\"https://colab.research.google.com/github/joaovitordsantos/Quest-es/blob/main/QUESTAO-3.ipynb\" target=\"_parent\"><img src=\"https://colab.research.google.com/assets/colab-badge.svg\" alt=\"Open In Colab\"/></a>"
      ]
    },
    {
      "cell_type": "markdown",
      "source": [
        "QUESTAO-3"
      ],
      "metadata": {
        "id": "p5y6WsIKMF9k"
      }
    },
    {
      "cell_type": "code",
      "source": [
        "import numpy as np\n",
        "from scipy.stats import norm\n",
        "S = 100\n",
        "K1 = 90\n",
        "K2 = 110\n",
        "r = 0.05\n",
        "T = 0.5\n",
        "sigma = 0.2\n",
        "\n",
        "def dual_digital_option(S, K1, K2, r, T, sigma):\n",
        "    d1 = (np.log(S/K1) + (r + 0.5 * sigma**2) * T) / (sigma * np.sqrt(T))\n",
        "    d2 = (np.log(S/K2) + (r + 0.5 * sigma**2) * T) / (sigma * np.sqrt(T))\n",
        "\n",
        "    price = np.exp(-r * T) * (norm.cdf(d1) - norm.cdf(d2))\n",
        "\n",
        "    return price\n",
        "\n",
        "\n",
        "price = dual_digital_option(S, K1, K2, r, T, sigma)\n",
        "print(f'Preço da opção: {price:.2f}')\n"
      ],
      "metadata": {
        "colab": {
          "base_uri": "https://localhost:8080/"
        },
        "id": "g8UI8LDuMVl7",
        "outputId": "b5993cad-23ff-4134-ded9-0dc7736efc35"
      },
      "execution_count": 11,
      "outputs": [
        {
          "output_type": "stream",
          "name": "stdout",
          "text": [
            "Preço da opção: 0.49\n"
          ]
        }
      ]
    },
    {
      "cell_type": "markdown",
      "source": [
        "Onde:\n",
        "\n",
        "S é o preço atual do ativo subjacente; \\\n",
        "K1 e K2 são os preços de exercício da opção; \\\n",
        "r é a taxa livre de risco; \\\n",
        "T é o tempo restante até o vencimento da opção (em anos);\\\n",
        "sigma é a volatilidade do ativo."
      ],
      "metadata": {
        "id": "lhkq3RZLNZir"
      }
    },
    {
      "cell_type": "code",
      "source": [],
      "metadata": {
        "id": "bR2AmjvaNa3w"
      },
      "execution_count": null,
      "outputs": []
    }
  ],
  "metadata": {
    "colab": {
      "name": "Damos-lhe as boas-vindas ao Colaboratory",
      "toc_visible": true,
      "provenance": [],
      "include_colab_link": true
    },
    "kernelspec": {
      "display_name": "Python 3",
      "name": "python3"
    }
  },
  "nbformat": 4,
  "nbformat_minor": 0
}